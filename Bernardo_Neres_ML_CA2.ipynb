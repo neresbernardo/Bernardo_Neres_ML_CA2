{
 "cells": [
  {
   "cell_type": "markdown",
   "id": "27bf5cab",
   "metadata": {},
   "source": [
    "## ML_CA2\n",
    "\n",
    "Name: Bernardo Neres Silva   \n",
    "Student Number: 2023484     \n",
    "Lecturer: David McQuaid     \n",
    "Submission Deadline Date: 31st May 2024    \n",
    "Github Link : https://github.com/neresbernardo/Bernardo_Neres_ML_CA2   \n",
    " \n"
   ]
  },
  {
   "cell_type": "markdown",
   "id": "ba9030c6",
   "metadata": {},
   "source": [
    "# Neural Networks"
   ]
  },
  {
   "cell_type": "markdown",
   "id": "b3b53326-1dff-449f-be54-d79894108b99",
   "metadata": {},
   "source": [
    "#### Import Libraries\n",
    "\n",
    "All of the libraries required for data processing, model building, training, assessment, and result visualisation were imported."
   ]
  },
  {
   "cell_type": "code",
   "execution_count": 21,
   "id": "4232cd2b",
   "metadata": {},
   "outputs": [],
   "source": [
    "# Importing libraries\n",
    "import pandas as pd\n",
    "import numpy as np\n",
    "from sklearn.model_selection import train_test_split\n",
    "from sklearn.preprocessing import StandardScaler, OneHotEncoder\n",
    "from sklearn.compose import ColumnTransformer\n",
    "from sklearn.pipeline import Pipeline\n",
    "from sklearn.metrics import mean_squared_error\n",
    "from sklearn.linear_model import LinearRegression\n",
    "import tensorflow as tf\n",
    "import matplotlib.pyplot as plt\n"
   ]
  },
  {
   "cell_type": "markdown",
   "id": "fa254afa-9285-4ad7-b56e-ae10534cf7c8",
   "metadata": {},
   "source": [
    "#### Load Data and Verify Columns\n",
    "\n",
    "We loaded the information from the bank records CSV file and examined the first few rows and columns of the data."
   ]
  },
  {
   "cell_type": "code",
   "execution_count": 20,
   "id": "372485dd-6fd3-4746-afd9-b2527a438624",
   "metadata": {
    "tags": []
   },
   "outputs": [
    {
     "name": "stdout",
     "output_type": "stream",
     "text": [
      "   ID  Age  Experience(Years)  Income(Thousands's)  Sort Code  Family  \\\n",
      "0   1   25                  1                   49      91107       4   \n",
      "1   2   45                 19                   34      90089       3   \n",
      "2   3   39                 15                   11      94720       1   \n",
      "3   4   35                  9                  100      94112       1   \n",
      "4   5   35                  8                   45      91330       4   \n",
      "\n",
      "   Credit Score Education  Mortgage(Thousands's) Personal Loan  \\\n",
      "0           1.6   Diploma                      0            No   \n",
      "1           1.5   Diploma                      0            No   \n",
      "2           1.0   Diploma                      0            No   \n",
      "3           2.7    Degree                      0            No   \n",
      "4           1.0    Degree                      0            No   \n",
      "\n",
      "  Securities Account CD Account Online Banking CreditCard  \n",
      "0                Yes         No             No         No  \n",
      "1                Yes         No             No         No  \n",
      "2                 No         No             No         No  \n",
      "3                 No         No             No         No  \n",
      "4                 No         No             No        Yes  \n",
      "Index(['ID', 'Age', 'Experience(Years)', 'Income(Thousands's)', 'Sort Code',\n",
      "       'Family', 'Credit Score', 'Education', 'Mortgage(Thousands's)',\n",
      "       'Personal Loan', 'Securities Account', 'CD Account', 'Online Banking',\n",
      "       'CreditCard'],\n",
      "      dtype='object')\n"
     ]
    }
   ],
   "source": [
    "# Load Data\n",
    "data = pd.read_csv('BankRecords.csv')\n",
    "print(data.head())\n",
    "\n",
    "# Verify the columns\n",
    "print(data.columns)\n"
   ]
  },
  {
   "cell_type": "markdown",
   "id": "6e629a24-0736-4b91-8cb4-fdad41422a28",
   "metadata": {},
   "source": [
    "#### Data Preprocessing with Verifications\n",
    "\n",
    "Here we defined categories and numerical columns, eliminated missing data, and developed a ColumnTransformer to integrate these transformations during preprocessing. We verified the shapes and some samples of the data, preprocessed it, and divided it into training and testing sets."
   ]
  },
  {
   "cell_type": "code",
   "execution_count": 23,
   "id": "6f7bb5aa-acac-4fd1-bc81-8bb455dcc88f",
   "metadata": {
    "tags": []
   },
   "outputs": [
    {
     "name": "stdout",
     "output_type": "stream",
     "text": [
      "Shape of X_train: (4000, 18)\n",
      "Shape of X_test: (1000, 18)\n",
      "First 5 rows of X_train:\n",
      " [[-1.1637042  -1.14282905 -1.21685513  1.06557702 -0.55552393  0.\n",
      "   1.          0.          1.          0.          0.          1.\n",
      "   1.          0.          1.          0.          1.          0.        ]\n",
      " [-0.55299157 -0.61957964  0.52599094  0.09275391 -0.55552393  0.\n",
      "   1.          0.          1.          0.          0.          1.\n",
      "   1.          0.          0.          1.          1.          0.        ]\n",
      " [-1.25094887 -1.14282905 -1.21685513  2.32452458 -0.55552393  0.\n",
      "   1.          0.          1.          0.          1.          0.\n",
      "   1.          0.          0.          1.          1.          0.        ]\n",
      " [ 0.40669972  0.4269192  -1.21685513 -0.88006919 -0.55552393  0.\n",
      "   0.          1.          1.          0.          1.          0.\n",
      "   1.          0.          0.          1.          1.          0.        ]\n",
      " [ 1.45363567  1.47341804  0.52599094 -0.99451897 -0.55552393  0.\n",
      "   1.          0.          1.          0.          1.          0.\n",
      "   1.          0.          0.          1.          1.          0.        ]]\n",
      "First 5 rows of y_train:\n",
      " [111  68 173  18  31]\n"
     ]
    }
   ],
   "source": [
    "# Data Preprocessing\n",
    "# Part to handle missing values if we have any\n",
    "data = data.dropna()\n",
    "\n",
    "# Ensure the column name is correct\n",
    "column_name = \"Income(Thousands's)\"  \n",
    "\n",
    "# Encode categorical variables\n",
    "categorical_features = ['Education', 'Personal Loan', 'Securities Account', 'CD Account', 'Online Banking', 'CreditCard']  # example categorical features\n",
    "numerical_features = [\"Age\", \"Experience(Years)\", \"Family\", \"Credit Score\", \"Mortgage(Thousands's)\"]  # example numerical features\n",
    "\n",
    "preprocessor = ColumnTransformer(\n",
    "    transformers=[\n",
    "        ('num', StandardScaler(), numerical_features),\n",
    "        ('cat', OneHotEncoder(), categorical_features)\n",
    "    ])\n",
    "\n",
    "X = data.drop(column_name, axis=1)\n",
    "y = data[column_name]\n",
    "\n",
    "# Apply preprocessing to features\n",
    "X_preprocessed = preprocessor.fit_transform(X)\n",
    "\n",
    "# Split data\n",
    "X_train, X_test, y_train, y_test = train_test_split(X_preprocessed, y, test_size=0.2, random_state=42)\n",
    "\n",
    "# Output shapes and some samples to verify if everthing its running properly\n",
    "print(\"Shape of X_train:\", X_train.shape)\n",
    "print(\"Shape of X_test:\", X_test.shape)\n",
    "print(\"First 5 rows of X_train:\\n\", X_train[:5])\n",
    "print(\"First 5 rows of y_train:\\n\", y_train[:5].values)\n"
   ]
  },
  {
   "cell_type": "markdown",
   "id": "6c9c4cdf-5edd-41ea-bff8-9544bef61ca0",
   "metadata": {},
   "source": [
    "#### Build and Train Neural Network Model\n",
    "\n",
    "TensorFlow/Keras was used to build a neural network model, which was then trained while recording the training history and compiled with the Adam optimizer and mse loss function."
   ]
  },
  {
   "cell_type": "code",
   "execution_count": 16,
   "id": "5ec1f5b9-8e5a-4444-aa1d-e4f302ab7a44",
   "metadata": {
    "tags": []
   },
   "outputs": [
    {
     "name": "stdout",
     "output_type": "stream",
     "text": [
      "Epoch 1/100\n",
      "\u001b[1m320/320\u001b[0m \u001b[32m━━━━━━━━━━━━━━━━━━━━\u001b[0m\u001b[37m\u001b[0m \u001b[1m1s\u001b[0m 502us/step - loss: 5312.3989 - mae: 57.4651 - val_loss: 936.6428 - val_mae: 24.9083\n",
      "Epoch 2/100\n",
      "\u001b[1m320/320\u001b[0m \u001b[32m━━━━━━━━━━━━━━━━━━━━\u001b[0m\u001b[37m\u001b[0m \u001b[1m0s\u001b[0m 361us/step - loss: 1140.4950 - mae: 27.4310 - val_loss: 838.9926 - val_mae: 23.4754\n",
      "Epoch 3/100\n",
      "\u001b[1m320/320\u001b[0m \u001b[32m━━━━━━━━━━━━━━━━━━━━\u001b[0m\u001b[37m\u001b[0m \u001b[1m0s\u001b[0m 358us/step - loss: 953.6163 - mae: 24.6191 - val_loss: 837.4077 - val_mae: 23.6535\n",
      "Epoch 4/100\n",
      "\u001b[1m320/320\u001b[0m \u001b[32m━━━━━━━━━━━━━━━━━━━━\u001b[0m\u001b[37m\u001b[0m \u001b[1m0s\u001b[0m 358us/step - loss: 965.2383 - mae: 24.8540 - val_loss: 817.1449 - val_mae: 23.4586\n",
      "Epoch 5/100\n",
      "\u001b[1m320/320\u001b[0m \u001b[32m━━━━━━━━━━━━━━━━━━━━\u001b[0m\u001b[37m\u001b[0m \u001b[1m0s\u001b[0m 359us/step - loss: 885.7686 - mae: 23.7573 - val_loss: 797.3254 - val_mae: 22.9099\n",
      "Epoch 6/100\n",
      "\u001b[1m320/320\u001b[0m \u001b[32m━━━━━━━━━━━━━━━━━━━━\u001b[0m\u001b[37m\u001b[0m \u001b[1m0s\u001b[0m 362us/step - loss: 874.5487 - mae: 23.4904 - val_loss: 787.4495 - val_mae: 22.7928\n",
      "Epoch 7/100\n",
      "\u001b[1m320/320\u001b[0m \u001b[32m━━━━━━━━━━━━━━━━━━━━\u001b[0m\u001b[37m\u001b[0m \u001b[1m0s\u001b[0m 360us/step - loss: 882.4959 - mae: 23.4930 - val_loss: 766.9374 - val_mae: 22.1489\n",
      "Epoch 8/100\n",
      "\u001b[1m320/320\u001b[0m \u001b[32m━━━━━━━━━━━━━━━━━━━━\u001b[0m\u001b[37m\u001b[0m \u001b[1m0s\u001b[0m 363us/step - loss: 838.1379 - mae: 22.6513 - val_loss: 763.4089 - val_mae: 22.5079\n",
      "Epoch 9/100\n",
      "\u001b[1m320/320\u001b[0m \u001b[32m━━━━━━━━━━━━━━━━━━━━\u001b[0m\u001b[37m\u001b[0m \u001b[1m0s\u001b[0m 364us/step - loss: 784.1415 - mae: 22.0323 - val_loss: 764.1412 - val_mae: 22.5005\n",
      "Epoch 10/100\n",
      "\u001b[1m320/320\u001b[0m \u001b[32m━━━━━━━━━━━━━━━━━━━━\u001b[0m\u001b[37m\u001b[0m \u001b[1m0s\u001b[0m 376us/step - loss: 834.2250 - mae: 22.6767 - val_loss: 752.3680 - val_mae: 21.8183\n",
      "Epoch 11/100\n",
      "\u001b[1m320/320\u001b[0m \u001b[32m━━━━━━━━━━━━━━━━━━━━\u001b[0m\u001b[37m\u001b[0m \u001b[1m0s\u001b[0m 375us/step - loss: 805.2032 - mae: 21.8638 - val_loss: 737.5183 - val_mae: 21.6633\n",
      "Epoch 12/100\n",
      "\u001b[1m320/320\u001b[0m \u001b[32m━━━━━━━━━━━━━━━━━━━━\u001b[0m\u001b[37m\u001b[0m \u001b[1m0s\u001b[0m 365us/step - loss: 825.3724 - mae: 22.4934 - val_loss: 747.7310 - val_mae: 22.1185\n",
      "Epoch 13/100\n",
      "\u001b[1m320/320\u001b[0m \u001b[32m━━━━━━━━━━━━━━━━━━━━\u001b[0m\u001b[37m\u001b[0m \u001b[1m0s\u001b[0m 365us/step - loss: 804.3055 - mae: 22.0428 - val_loss: 752.4377 - val_mae: 22.3915\n",
      "Epoch 14/100\n",
      "\u001b[1m320/320\u001b[0m \u001b[32m━━━━━━━━━━━━━━━━━━━━\u001b[0m\u001b[37m\u001b[0m \u001b[1m0s\u001b[0m 357us/step - loss: 792.3435 - mae: 22.2688 - val_loss: 724.4059 - val_mae: 21.6639\n",
      "Epoch 15/100\n",
      "\u001b[1m320/320\u001b[0m \u001b[32m━━━━━━━━━━━━━━━━━━━━\u001b[0m\u001b[37m\u001b[0m \u001b[1m0s\u001b[0m 361us/step - loss: 798.3422 - mae: 21.9569 - val_loss: 732.1426 - val_mae: 21.9707\n",
      "Epoch 16/100\n",
      "\u001b[1m320/320\u001b[0m \u001b[32m━━━━━━━━━━━━━━━━━━━━\u001b[0m\u001b[37m\u001b[0m \u001b[1m0s\u001b[0m 360us/step - loss: 830.0553 - mae: 22.4250 - val_loss: 742.9166 - val_mae: 22.1297\n",
      "Epoch 17/100\n",
      "\u001b[1m320/320\u001b[0m \u001b[32m━━━━━━━━━━━━━━━━━━━━\u001b[0m\u001b[37m\u001b[0m \u001b[1m0s\u001b[0m 369us/step - loss: 810.4008 - mae: 22.1131 - val_loss: 722.2170 - val_mae: 21.5792\n",
      "Epoch 18/100\n",
      "\u001b[1m320/320\u001b[0m \u001b[32m━━━━━━━━━━━━━━━━━━━━\u001b[0m\u001b[37m\u001b[0m \u001b[1m0s\u001b[0m 366us/step - loss: 774.2150 - mae: 21.7257 - val_loss: 717.4346 - val_mae: 21.4118\n",
      "Epoch 19/100\n",
      "\u001b[1m320/320\u001b[0m \u001b[32m━━━━━━━━━━━━━━━━━━━━\u001b[0m\u001b[37m\u001b[0m \u001b[1m0s\u001b[0m 377us/step - loss: 773.2046 - mae: 21.6973 - val_loss: 732.2974 - val_mae: 21.7051\n",
      "Epoch 20/100\n",
      "\u001b[1m320/320\u001b[0m \u001b[32m━━━━━━━━━━━━━━━━━━━━\u001b[0m\u001b[37m\u001b[0m \u001b[1m0s\u001b[0m 372us/step - loss: 755.1145 - mae: 21.2913 - val_loss: 716.1591 - val_mae: 21.2610\n",
      "Epoch 21/100\n",
      "\u001b[1m320/320\u001b[0m \u001b[32m━━━━━━━━━━━━━━━━━━━━\u001b[0m\u001b[37m\u001b[0m \u001b[1m0s\u001b[0m 360us/step - loss: 767.1724 - mae: 21.6092 - val_loss: 721.5796 - val_mae: 21.1535\n",
      "Epoch 22/100\n",
      "\u001b[1m320/320\u001b[0m \u001b[32m━━━━━━━━━━━━━━━━━━━━\u001b[0m\u001b[37m\u001b[0m \u001b[1m0s\u001b[0m 366us/step - loss: 838.3712 - mae: 22.5843 - val_loss: 720.8497 - val_mae: 21.5776\n",
      "Epoch 23/100\n",
      "\u001b[1m320/320\u001b[0m \u001b[32m━━━━━━━━━━━━━━━━━━━━\u001b[0m\u001b[37m\u001b[0m \u001b[1m0s\u001b[0m 361us/step - loss: 756.1030 - mae: 21.3289 - val_loss: 713.9286 - val_mae: 21.3690\n",
      "Epoch 24/100\n",
      "\u001b[1m320/320\u001b[0m \u001b[32m━━━━━━━━━━━━━━━━━━━━\u001b[0m\u001b[37m\u001b[0m \u001b[1m0s\u001b[0m 365us/step - loss: 757.1301 - mae: 21.2395 - val_loss: 715.5248 - val_mae: 21.6109\n",
      "Epoch 25/100\n",
      "\u001b[1m320/320\u001b[0m \u001b[32m━━━━━━━━━━━━━━━━━━━━\u001b[0m\u001b[37m\u001b[0m \u001b[1m0s\u001b[0m 370us/step - loss: 757.7246 - mae: 21.4647 - val_loss: 710.9139 - val_mae: 21.3847\n",
      "Epoch 26/100\n",
      "\u001b[1m320/320\u001b[0m \u001b[32m━━━━━━━━━━━━━━━━━━━━\u001b[0m\u001b[37m\u001b[0m \u001b[1m0s\u001b[0m 358us/step - loss: 757.4243 - mae: 21.3402 - val_loss: 713.2729 - val_mae: 21.4007\n",
      "Epoch 27/100\n",
      "\u001b[1m320/320\u001b[0m \u001b[32m━━━━━━━━━━━━━━━━━━━━\u001b[0m\u001b[37m\u001b[0m \u001b[1m0s\u001b[0m 357us/step - loss: 728.1163 - mae: 20.9985 - val_loss: 722.1282 - val_mae: 21.8070\n",
      "Epoch 28/100\n",
      "\u001b[1m320/320\u001b[0m \u001b[32m━━━━━━━━━━━━━━━━━━━━\u001b[0m\u001b[37m\u001b[0m \u001b[1m0s\u001b[0m 366us/step - loss: 729.1382 - mae: 21.0318 - val_loss: 732.4295 - val_mae: 21.9833\n",
      "Epoch 29/100\n",
      "\u001b[1m320/320\u001b[0m \u001b[32m━━━━━━━━━━━━━━━━━━━━\u001b[0m\u001b[37m\u001b[0m \u001b[1m0s\u001b[0m 359us/step - loss: 781.3061 - mae: 21.8137 - val_loss: 714.3406 - val_mae: 21.2636\n",
      "Epoch 30/100\n",
      "\u001b[1m320/320\u001b[0m \u001b[32m━━━━━━━━━━━━━━━━━━━━\u001b[0m\u001b[37m\u001b[0m \u001b[1m0s\u001b[0m 355us/step - loss: 761.3879 - mae: 21.3987 - val_loss: 713.5637 - val_mae: 21.5175\n",
      "Epoch 31/100\n",
      "\u001b[1m320/320\u001b[0m \u001b[32m━━━━━━━━━━━━━━━━━━━━\u001b[0m\u001b[37m\u001b[0m \u001b[1m0s\u001b[0m 367us/step - loss: 754.6240 - mae: 21.2190 - val_loss: 700.4055 - val_mae: 20.9391\n",
      "Epoch 32/100\n",
      "\u001b[1m320/320\u001b[0m \u001b[32m━━━━━━━━━━━━━━━━━━━━\u001b[0m\u001b[37m\u001b[0m \u001b[1m0s\u001b[0m 378us/step - loss: 733.7936 - mae: 20.8243 - val_loss: 709.1898 - val_mae: 21.2805\n",
      "Epoch 33/100\n",
      "\u001b[1m320/320\u001b[0m \u001b[32m━━━━━━━━━━━━━━━━━━━━\u001b[0m\u001b[37m\u001b[0m \u001b[1m0s\u001b[0m 377us/step - loss: 751.3441 - mae: 21.1138 - val_loss: 719.7045 - val_mae: 21.7398\n",
      "Epoch 34/100\n",
      "\u001b[1m320/320\u001b[0m \u001b[32m━━━━━━━━━━━━━━━━━━━━\u001b[0m\u001b[37m\u001b[0m \u001b[1m0s\u001b[0m 369us/step - loss: 753.3658 - mae: 21.2141 - val_loss: 711.4841 - val_mae: 21.2496\n",
      "Epoch 35/100\n",
      "\u001b[1m320/320\u001b[0m \u001b[32m━━━━━━━━━━━━━━━━━━━━\u001b[0m\u001b[37m\u001b[0m \u001b[1m0s\u001b[0m 363us/step - loss: 734.5387 - mae: 20.9552 - val_loss: 708.0242 - val_mae: 21.2202\n",
      "Epoch 36/100\n",
      "\u001b[1m320/320\u001b[0m \u001b[32m━━━━━━━━━━━━━━━━━━━━\u001b[0m\u001b[37m\u001b[0m \u001b[1m0s\u001b[0m 378us/step - loss: 756.5278 - mae: 21.3158 - val_loss: 702.9972 - val_mae: 20.8541\n",
      "Epoch 37/100\n",
      "\u001b[1m320/320\u001b[0m \u001b[32m━━━━━━━━━━━━━━━━━━━━\u001b[0m\u001b[37m\u001b[0m \u001b[1m0s\u001b[0m 366us/step - loss: 749.5480 - mae: 21.1109 - val_loss: 695.9252 - val_mae: 21.1131\n",
      "Epoch 38/100\n",
      "\u001b[1m320/320\u001b[0m \u001b[32m━━━━━━━━━━━━━━━━━━━━\u001b[0m\u001b[37m\u001b[0m \u001b[1m0s\u001b[0m 363us/step - loss: 779.2375 - mae: 21.5869 - val_loss: 698.0912 - val_mae: 21.3066\n",
      "Epoch 39/100\n",
      "\u001b[1m320/320\u001b[0m \u001b[32m━━━━━━━━━━━━━━━━━━━━\u001b[0m\u001b[37m\u001b[0m \u001b[1m0s\u001b[0m 354us/step - loss: 739.6324 - mae: 20.9632 - val_loss: 709.5572 - val_mae: 21.5213\n",
      "Epoch 40/100\n",
      "\u001b[1m320/320\u001b[0m \u001b[32m━━━━━━━━━━━━━━━━━━━━\u001b[0m\u001b[37m\u001b[0m \u001b[1m0s\u001b[0m 359us/step - loss: 756.0717 - mae: 21.3529 - val_loss: 703.9133 - val_mae: 21.1841\n",
      "Epoch 41/100\n",
      "\u001b[1m320/320\u001b[0m \u001b[32m━━━━━━━━━━━━━━━━━━━━\u001b[0m\u001b[37m\u001b[0m \u001b[1m0s\u001b[0m 361us/step - loss: 776.4155 - mae: 21.6024 - val_loss: 707.1478 - val_mae: 20.9778\n",
      "Epoch 42/100\n",
      "\u001b[1m320/320\u001b[0m \u001b[32m━━━━━━━━━━━━━━━━━━━━\u001b[0m\u001b[37m\u001b[0m \u001b[1m0s\u001b[0m 376us/step - loss: 762.9767 - mae: 21.3058 - val_loss: 701.1027 - val_mae: 21.2885\n",
      "Epoch 43/100\n",
      "\u001b[1m320/320\u001b[0m \u001b[32m━━━━━━━━━━━━━━━━━━━━\u001b[0m\u001b[37m\u001b[0m \u001b[1m0s\u001b[0m 369us/step - loss: 759.5419 - mae: 21.3603 - val_loss: 711.6632 - val_mae: 21.1830\n",
      "Epoch 44/100\n",
      "\u001b[1m320/320\u001b[0m \u001b[32m━━━━━━━━━━━━━━━━━━━━\u001b[0m\u001b[37m\u001b[0m \u001b[1m0s\u001b[0m 374us/step - loss: 731.9923 - mae: 20.9513 - val_loss: 702.3138 - val_mae: 21.2659\n",
      "Epoch 45/100\n",
      "\u001b[1m320/320\u001b[0m \u001b[32m━━━━━━━━━━━━━━━━━━━━\u001b[0m\u001b[37m\u001b[0m \u001b[1m0s\u001b[0m 363us/step - loss: 760.1929 - mae: 21.1421 - val_loss: 696.8572 - val_mae: 21.2378\n",
      "Epoch 46/100\n",
      "\u001b[1m320/320\u001b[0m \u001b[32m━━━━━━━━━━━━━━━━━━━━\u001b[0m\u001b[37m\u001b[0m \u001b[1m0s\u001b[0m 362us/step - loss: 759.7144 - mae: 21.3486 - val_loss: 696.5778 - val_mae: 21.0956\n",
      "Epoch 47/100\n",
      "\u001b[1m320/320\u001b[0m \u001b[32m━━━━━━━━━━━━━━━━━━━━\u001b[0m\u001b[37m\u001b[0m \u001b[1m0s\u001b[0m 366us/step - loss: 762.6196 - mae: 21.4926 - val_loss: 714.9711 - val_mae: 21.4414\n",
      "Epoch 48/100\n",
      "\u001b[1m320/320\u001b[0m \u001b[32m━━━━━━━━━━━━━━━━━━━━\u001b[0m\u001b[37m\u001b[0m \u001b[1m0s\u001b[0m 374us/step - loss: 763.9721 - mae: 21.3052 - val_loss: 689.7487 - val_mae: 20.9325\n",
      "Epoch 49/100\n",
      "\u001b[1m320/320\u001b[0m \u001b[32m━━━━━━━━━━━━━━━━━━━━\u001b[0m\u001b[37m\u001b[0m \u001b[1m0s\u001b[0m 374us/step - loss: 811.9088 - mae: 21.8820 - val_loss: 693.7375 - val_mae: 20.9957\n",
      "Epoch 50/100\n",
      "\u001b[1m320/320\u001b[0m \u001b[32m━━━━━━━━━━━━━━━━━━━━\u001b[0m\u001b[37m\u001b[0m \u001b[1m0s\u001b[0m 363us/step - loss: 745.3110 - mae: 21.1131 - val_loss: 691.2118 - val_mae: 20.9645\n",
      "Epoch 51/100\n",
      "\u001b[1m320/320\u001b[0m \u001b[32m━━━━━━━━━━━━━━━━━━━━\u001b[0m\u001b[37m\u001b[0m \u001b[1m0s\u001b[0m 371us/step - loss: 735.7703 - mae: 20.8482 - val_loss: 688.7310 - val_mae: 20.7326\n",
      "Epoch 52/100\n",
      "\u001b[1m320/320\u001b[0m \u001b[32m━━━━━━━━━━━━━━━━━━━━\u001b[0m\u001b[37m\u001b[0m \u001b[1m0s\u001b[0m 375us/step - loss: 723.5174 - mae: 20.7708 - val_loss: 696.7319 - val_mae: 20.8054\n",
      "Epoch 53/100\n",
      "\u001b[1m320/320\u001b[0m \u001b[32m━━━━━━━━━━━━━━━━━━━━\u001b[0m\u001b[37m\u001b[0m \u001b[1m0s\u001b[0m 362us/step - loss: 767.9846 - mae: 21.4141 - val_loss: 697.5717 - val_mae: 20.8850\n",
      "Epoch 54/100\n",
      "\u001b[1m320/320\u001b[0m \u001b[32m━━━━━━━━━━━━━━━━━━━━\u001b[0m\u001b[37m\u001b[0m \u001b[1m0s\u001b[0m 368us/step - loss: 748.2302 - mae: 21.0875 - val_loss: 694.2329 - val_mae: 21.2382\n",
      "Epoch 55/100\n",
      "\u001b[1m320/320\u001b[0m \u001b[32m━━━━━━━━━━━━━━━━━━━━\u001b[0m\u001b[37m\u001b[0m \u001b[1m0s\u001b[0m 364us/step - loss: 744.2608 - mae: 20.8791 - val_loss: 695.1757 - val_mae: 21.0804\n",
      "Epoch 56/100\n",
      "\u001b[1m320/320\u001b[0m \u001b[32m━━━━━━━━━━━━━━━━━━━━\u001b[0m\u001b[37m\u001b[0m \u001b[1m0s\u001b[0m 363us/step - loss: 782.2848 - mae: 21.7427 - val_loss: 695.2720 - val_mae: 20.8203\n",
      "Epoch 57/100\n",
      "\u001b[1m320/320\u001b[0m \u001b[32m━━━━━━━━━━━━━━━━━━━━\u001b[0m\u001b[37m\u001b[0m \u001b[1m0s\u001b[0m 368us/step - loss: 723.3743 - mae: 20.7449 - val_loss: 706.4202 - val_mae: 21.4474\n",
      "Epoch 58/100\n",
      "\u001b[1m320/320\u001b[0m \u001b[32m━━━━━━━━━━━━━━━━━━━━\u001b[0m\u001b[37m\u001b[0m \u001b[1m0s\u001b[0m 360us/step - loss: 726.9407 - mae: 20.9568 - val_loss: 716.1871 - val_mae: 21.6023\n",
      "Epoch 59/100\n",
      "\u001b[1m320/320\u001b[0m \u001b[32m━━━━━━━━━━━━━━━━━━━━\u001b[0m\u001b[37m\u001b[0m \u001b[1m0s\u001b[0m 365us/step - loss: 773.3687 - mae: 21.3525 - val_loss: 698.6965 - val_mae: 20.9428\n",
      "Epoch 60/100\n",
      "\u001b[1m320/320\u001b[0m \u001b[32m━━━━━━━━━━━━━━━━━━━━\u001b[0m\u001b[37m\u001b[0m \u001b[1m0s\u001b[0m 357us/step - loss: 708.0731 - mae: 20.7543 - val_loss: 701.4101 - val_mae: 21.3269\n",
      "Epoch 61/100\n",
      "\u001b[1m320/320\u001b[0m \u001b[32m━━━━━━━━━━━━━━━━━━━━\u001b[0m\u001b[37m\u001b[0m \u001b[1m0s\u001b[0m 370us/step - loss: 716.7883 - mae: 20.8583 - val_loss: 696.5117 - val_mae: 21.0673\n",
      "Epoch 62/100\n",
      "\u001b[1m320/320\u001b[0m \u001b[32m━━━━━━━━━━━━━━━━━━━━\u001b[0m\u001b[37m\u001b[0m \u001b[1m0s\u001b[0m 359us/step - loss: 734.5898 - mae: 21.2420 - val_loss: 691.4239 - val_mae: 20.6660\n",
      "Epoch 63/100\n",
      "\u001b[1m320/320\u001b[0m \u001b[32m━━━━━━━━━━━━━━━━━━━━\u001b[0m\u001b[37m\u001b[0m \u001b[1m0s\u001b[0m 436us/step - loss: 782.3046 - mae: 21.3681 - val_loss: 689.7887 - val_mae: 20.9372\n",
      "Epoch 64/100\n",
      "\u001b[1m320/320\u001b[0m \u001b[32m━━━━━━━━━━━━━━━━━━━━\u001b[0m\u001b[37m\u001b[0m \u001b[1m0s\u001b[0m 361us/step - loss: 776.7128 - mae: 21.3948 - val_loss: 694.7424 - val_mae: 21.2838\n",
      "Epoch 65/100\n",
      "\u001b[1m320/320\u001b[0m \u001b[32m━━━━━━━━━━━━━━━━━━━━\u001b[0m\u001b[37m\u001b[0m \u001b[1m0s\u001b[0m 362us/step - loss: 745.0865 - mae: 20.9941 - val_loss: 697.6334 - val_mae: 20.5540\n",
      "Epoch 66/100\n",
      "\u001b[1m320/320\u001b[0m \u001b[32m━━━━━━━━━━━━━━━━━━━━\u001b[0m\u001b[37m\u001b[0m \u001b[1m0s\u001b[0m 366us/step - loss: 728.3603 - mae: 20.5680 - val_loss: 680.4434 - val_mae: 20.7143\n",
      "Epoch 67/100\n",
      "\u001b[1m320/320\u001b[0m \u001b[32m━━━━━━━━━━━━━━━━━━━━\u001b[0m\u001b[37m\u001b[0m \u001b[1m0s\u001b[0m 363us/step - loss: 736.6506 - mae: 20.8941 - val_loss: 704.7405 - val_mae: 21.5785\n",
      "Epoch 68/100\n",
      "\u001b[1m320/320\u001b[0m \u001b[32m━━━━━━━━━━━━━━━━━━━━\u001b[0m\u001b[37m\u001b[0m \u001b[1m0s\u001b[0m 359us/step - loss: 753.3958 - mae: 21.3036 - val_loss: 686.9029 - val_mae: 20.7983\n",
      "Epoch 69/100\n",
      "\u001b[1m320/320\u001b[0m \u001b[32m━━━━━━━━━━━━━━━━━━━━\u001b[0m\u001b[37m\u001b[0m \u001b[1m0s\u001b[0m 362us/step - loss: 729.5824 - mae: 20.7663 - val_loss: 705.8695 - val_mae: 21.3373\n",
      "Epoch 70/100\n",
      "\u001b[1m320/320\u001b[0m \u001b[32m━━━━━━━━━━━━━━━━━━━━\u001b[0m\u001b[37m\u001b[0m \u001b[1m0s\u001b[0m 364us/step - loss: 709.5592 - mae: 20.6820 - val_loss: 693.5999 - val_mae: 20.5763\n",
      "Epoch 71/100\n",
      "\u001b[1m320/320\u001b[0m \u001b[32m━━━━━━━━━━━━━━━━━━━━\u001b[0m\u001b[37m\u001b[0m \u001b[1m0s\u001b[0m 374us/step - loss: 747.4624 - mae: 20.7182 - val_loss: 691.3251 - val_mae: 21.1876\n",
      "Epoch 72/100\n",
      "\u001b[1m320/320\u001b[0m \u001b[32m━━━━━━━━━━━━━━━━━━━━\u001b[0m\u001b[37m\u001b[0m \u001b[1m0s\u001b[0m 363us/step - loss: 761.8693 - mae: 21.1497 - val_loss: 704.4051 - val_mae: 20.8371\n",
      "Epoch 73/100\n",
      "\u001b[1m320/320\u001b[0m \u001b[32m━━━━━━━━━━━━━━━━━━━━\u001b[0m\u001b[37m\u001b[0m \u001b[1m0s\u001b[0m 361us/step - loss: 719.7603 - mae: 20.7297 - val_loss: 699.0994 - val_mae: 21.2563\n",
      "Epoch 74/100\n",
      "\u001b[1m320/320\u001b[0m \u001b[32m━━━━━━━━━━━━━━━━━━━━\u001b[0m\u001b[37m\u001b[0m \u001b[1m0s\u001b[0m 370us/step - loss: 738.8380 - mae: 21.1444 - val_loss: 688.0340 - val_mae: 21.0533\n",
      "Epoch 75/100\n",
      "\u001b[1m320/320\u001b[0m \u001b[32m━━━━━━━━━━━━━━━━━━━━\u001b[0m\u001b[37m\u001b[0m \u001b[1m0s\u001b[0m 375us/step - loss: 699.2156 - mae: 20.5390 - val_loss: 689.2969 - val_mae: 20.6983\n",
      "Epoch 76/100\n",
      "\u001b[1m320/320\u001b[0m \u001b[32m━━━━━━━━━━━━━━━━━━━━\u001b[0m\u001b[37m\u001b[0m \u001b[1m0s\u001b[0m 368us/step - loss: 689.8684 - mae: 20.1951 - val_loss: 680.0245 - val_mae: 20.6090\n",
      "Epoch 77/100\n",
      "\u001b[1m320/320\u001b[0m \u001b[32m━━━━━━━━━━━━━━━━━━━━\u001b[0m\u001b[37m\u001b[0m \u001b[1m0s\u001b[0m 361us/step - loss: 729.2109 - mae: 20.6681 - val_loss: 685.4210 - val_mae: 20.8605\n",
      "Epoch 78/100\n",
      "\u001b[1m320/320\u001b[0m \u001b[32m━━━━━━━━━━━━━━━━━━━━\u001b[0m\u001b[37m\u001b[0m \u001b[1m0s\u001b[0m 362us/step - loss: 715.4295 - mae: 20.5586 - val_loss: 705.1710 - val_mae: 21.0831\n",
      "Epoch 79/100\n",
      "\u001b[1m320/320\u001b[0m \u001b[32m━━━━━━━━━━━━━━━━━━━━\u001b[0m\u001b[37m\u001b[0m \u001b[1m0s\u001b[0m 363us/step - loss: 752.9165 - mae: 21.0881 - val_loss: 678.9595 - val_mae: 20.4803\n",
      "Epoch 80/100\n",
      "\u001b[1m320/320\u001b[0m \u001b[32m━━━━━━━━━━━━━━━━━━━━\u001b[0m\u001b[37m\u001b[0m \u001b[1m0s\u001b[0m 371us/step - loss: 699.3964 - mae: 20.3371 - val_loss: 697.0633 - val_mae: 20.5675\n",
      "Epoch 81/100\n",
      "\u001b[1m320/320\u001b[0m \u001b[32m━━━━━━━━━━━━━━━━━━━━\u001b[0m\u001b[37m\u001b[0m \u001b[1m0s\u001b[0m 363us/step - loss: 690.9195 - mae: 20.1311 - val_loss: 692.7206 - val_mae: 21.2144\n",
      "Epoch 82/100\n",
      "\u001b[1m320/320\u001b[0m \u001b[32m━━━━━━━━━━━━━━━━━━━━\u001b[0m\u001b[37m\u001b[0m \u001b[1m0s\u001b[0m 364us/step - loss: 688.1543 - mae: 20.2520 - val_loss: 689.0912 - val_mae: 20.8859\n",
      "Epoch 83/100\n",
      "\u001b[1m320/320\u001b[0m \u001b[32m━━━━━━━━━━━━━━━━━━━━\u001b[0m\u001b[37m\u001b[0m \u001b[1m0s\u001b[0m 366us/step - loss: 710.8391 - mae: 20.4654 - val_loss: 679.2644 - val_mae: 20.6037\n",
      "Epoch 84/100\n",
      "\u001b[1m320/320\u001b[0m \u001b[32m━━━━━━━━━━━━━━━━━━━━\u001b[0m\u001b[37m\u001b[0m \u001b[1m0s\u001b[0m 363us/step - loss: 687.2322 - mae: 20.1923 - val_loss: 694.5792 - val_mae: 20.4209\n",
      "Epoch 85/100\n",
      "\u001b[1m320/320\u001b[0m \u001b[32m━━━━━━━━━━━━━━━━━━━━\u001b[0m\u001b[37m\u001b[0m \u001b[1m0s\u001b[0m 365us/step - loss: 703.0132 - mae: 20.6270 - val_loss: 697.8842 - val_mae: 20.8732\n",
      "Epoch 86/100\n",
      "\u001b[1m320/320\u001b[0m \u001b[32m━━━━━━━━━━━━━━━━━━━━\u001b[0m\u001b[37m\u001b[0m \u001b[1m0s\u001b[0m 363us/step - loss: 694.1437 - mae: 20.2626 - val_loss: 683.5151 - val_mae: 20.7140\n",
      "Epoch 87/100\n",
      "\u001b[1m320/320\u001b[0m \u001b[32m━━━━━━━━━━━━━━━━━━━━\u001b[0m\u001b[37m\u001b[0m \u001b[1m0s\u001b[0m 364us/step - loss: 681.3868 - mae: 20.0966 - val_loss: 680.9224 - val_mae: 20.8989\n",
      "Epoch 88/100\n",
      "\u001b[1m320/320\u001b[0m \u001b[32m━━━━━━━━━━━━━━━━━━━━\u001b[0m\u001b[37m\u001b[0m \u001b[1m0s\u001b[0m 357us/step - loss: 717.7510 - mae: 20.7039 - val_loss: 677.8289 - val_mae: 20.4289\n",
      "Epoch 89/100\n",
      "\u001b[1m320/320\u001b[0m \u001b[32m━━━━━━━━━━━━━━━━━━━━\u001b[0m\u001b[37m\u001b[0m \u001b[1m0s\u001b[0m 361us/step - loss: 672.5104 - mae: 20.0031 - val_loss: 682.1436 - val_mae: 20.5844\n",
      "Epoch 90/100\n",
      "\u001b[1m320/320\u001b[0m \u001b[32m━━━━━━━━━━━━━━━━━━━━\u001b[0m\u001b[37m\u001b[0m \u001b[1m0s\u001b[0m 355us/step - loss: 737.7152 - mae: 20.8745 - val_loss: 676.6522 - val_mae: 20.6746\n",
      "Epoch 91/100\n",
      "\u001b[1m320/320\u001b[0m \u001b[32m━━━━━━━━━━━━━━━━━━━━\u001b[0m\u001b[37m\u001b[0m \u001b[1m0s\u001b[0m 361us/step - loss: 674.3138 - mae: 20.3454 - val_loss: 683.3088 - val_mae: 20.8747\n",
      "Epoch 92/100\n",
      "\u001b[1m320/320\u001b[0m \u001b[32m━━━━━━━━━━━━━━━━━━━━\u001b[0m\u001b[37m\u001b[0m \u001b[1m0s\u001b[0m 359us/step - loss: 651.8142 - mae: 19.7394 - val_loss: 678.4952 - val_mae: 20.4791\n",
      "Epoch 93/100\n",
      "\u001b[1m320/320\u001b[0m \u001b[32m━━━━━━━━━━━━━━━━━━━━\u001b[0m\u001b[37m\u001b[0m \u001b[1m0s\u001b[0m 360us/step - loss: 680.8215 - mae: 20.1776 - val_loss: 686.3900 - val_mae: 20.4101\n",
      "Epoch 94/100\n",
      "\u001b[1m320/320\u001b[0m \u001b[32m━━━━━━━━━━━━━━━━━━━━\u001b[0m\u001b[37m\u001b[0m \u001b[1m0s\u001b[0m 360us/step - loss: 697.9173 - mae: 20.2272 - val_loss: 674.3575 - val_mae: 20.5793\n",
      "Epoch 95/100\n",
      "\u001b[1m320/320\u001b[0m \u001b[32m━━━━━━━━━━━━━━━━━━━━\u001b[0m\u001b[37m\u001b[0m \u001b[1m0s\u001b[0m 348us/step - loss: 727.6290 - mae: 20.8332 - val_loss: 673.8250 - val_mae: 20.3070\n",
      "Epoch 96/100\n",
      "\u001b[1m320/320\u001b[0m \u001b[32m━━━━━━━━━━━━━━━━━━━━\u001b[0m\u001b[37m\u001b[0m \u001b[1m0s\u001b[0m 345us/step - loss: 646.7579 - mae: 19.5141 - val_loss: 675.9692 - val_mae: 20.7206\n",
      "Epoch 97/100\n",
      "\u001b[1m320/320\u001b[0m \u001b[32m━━━━━━━━━━━━━━━━━━━━\u001b[0m\u001b[37m\u001b[0m \u001b[1m0s\u001b[0m 347us/step - loss: 695.3940 - mae: 20.4071 - val_loss: 681.3560 - val_mae: 20.4544\n",
      "Epoch 98/100\n",
      "\u001b[1m320/320\u001b[0m \u001b[32m━━━━━━━━━━━━━━━━━━━━\u001b[0m\u001b[37m\u001b[0m \u001b[1m0s\u001b[0m 357us/step - loss: 676.3139 - mae: 20.1345 - val_loss: 671.4214 - val_mae: 20.4054\n",
      "Epoch 99/100\n",
      "\u001b[1m320/320\u001b[0m \u001b[32m━━━━━━━━━━━━━━━━━━━━\u001b[0m\u001b[37m\u001b[0m \u001b[1m0s\u001b[0m 344us/step - loss: 672.2492 - mae: 19.7163 - val_loss: 700.4113 - val_mae: 21.2679\n",
      "Epoch 100/100\n",
      "\u001b[1m320/320\u001b[0m \u001b[32m━━━━━━━━━━━━━━━━━━━━\u001b[0m\u001b[37m\u001b[0m \u001b[1m0s\u001b[0m 332us/step - loss: 662.0327 - mae: 19.8093 - val_loss: 669.6860 - val_mae: 20.3896\n"
     ]
    }
   ],
   "source": [
    "# Neural Network Model using TensorFlow/Keras\n",
    "model = tf.keras.Sequential([\n",
    "    tf.keras.layers.Input(shape=(X_train.shape[1],)),\n",
    "    tf.keras.layers.Dense(64, activation='relu'),\n",
    "    tf.keras.layers.Dense(32, activation='relu'),\n",
    "    tf.keras.layers.Dense(1, activation='linear')\n",
    "])\n",
    "\n",
    "# Compile the model\n",
    "model.compile(optimizer='adam', loss='mse', metrics=['mae'])\n",
    "\n",
    "# Train the model and capture the training history\n",
    "history = model.fit(X_train, y_train, epochs=100, batch_size=10, validation_split=0.2)\n"
   ]
  },
  {
   "cell_type": "markdown",
   "id": "2d668d2d-47cc-42b5-af9f-b857af1182e7",
   "metadata": {},
   "source": [
    "#### Visualize Training History\n",
    "\n",
    "For training and validation, we plotted the mean absolute error (MAE) and loss throughout the epochs."
   ]
  },
  {
   "cell_type": "code",
   "execution_count": 17,
   "id": "4d63ff89-dc55-4923-996a-f3c2191858c3",
   "metadata": {
    "tags": []
   },
   "outputs": [
    {
     "data": {
      "image/png": "[encoded data removed]",
      "text/plain": [
       "<Figure size 640x480 with 1 Axes>"
      ]
     },
     "metadata": {},
     "output_type": "display_data"
    },
    {
     "data": {
      "image/png": "[encoded data removed]",
      "text/plain": [
       "<Figure size 640x480 with 1 Axes>"
      ]
     },
     "metadata": {},
     "output_type": "display_data"
    }
   ],
   "source": [
    "# Plot training & validation loss values\n",
    "plt.plot(history.history['loss'])\n",
    "plt.plot(history.history['val_loss'])\n",
    "plt.title('Model loss')\n",
    "plt.xlabel('Epoch')\n",
    "plt.ylabel('Loss')\n",
    "plt.legend(['Train', 'Validation'], loc='upper right')\n",
    "plt.show()\n",
    "\n",
    "# Plot training & validation MAE values\n",
    "plt.plot(history.history['mae'])\n",
    "plt.plot(history.history['val_mae'])\n",
    "plt.title('Model MAE')\n",
    "plt.xlabel('Epoch')\n",
    "plt.ylabel('MAE')\n",
    "plt.legend(['Train', 'Validation'], loc='upper right')\n",
    "plt.show()\n"
   ]
  },
  {
   "cell_type": "markdown",
   "id": "e2d89b30-b0c0-4632-bb8f-61691a303640",
   "metadata": {},
   "source": [
    "#### Evaluate Neural Network Model\n",
    "\n",
    "Making predictions on the test set and figuring out the mean squared error (MSE) allowed us to assess the neural network model."
   ]
  },
  {
   "cell_type": "code",
   "execution_count": 24,
   "id": "65e247c5-1ace-4504-a17b-fd1c1b88f32d",
   "metadata": {
    "tags": []
   },
   "outputs": [
    {
     "name": "stdout",
     "output_type": "stream",
     "text": [
      "\u001b[1m32/32\u001b[0m \u001b[32m━━━━━━━━━━━━━━━━━━━━\u001b[0m\u001b[37m\u001b[0m \u001b[1m0s\u001b[0m 1ms/step \n",
      "Neural Network MSE: 694.1959351216603\n"
     ]
    }
   ],
   "source": [
    "# Evaluate the model\n",
    "nn_preds = model.predict(X_test)\n",
    "nn_mse = mean_squared_error(y_test, nn_preds)\n",
    "print(f'Neural Network MSE: {nn_mse}')\n"
   ]
  },
  {
   "cell_type": "markdown",
   "id": "e6fd2cc9-27d8-445e-836b-8baf2ff13a37",
   "metadata": {},
   "source": [
    "#### Standard ML Regressor\n",
    "\n",
    "After dividing the initial data into training and testing sets, we built a pipeline that incorporates the linear regression model and preprocessing, and we fitted the pipeline to the initial training data. Making predictions on the test set, we calculate the MSE using the pipeline."
   ]
  },
  {
   "cell_type": "code",
   "execution_count": 32,
   "id": "0a4db261-50f4-42e6-b665-a4e117d67702",
   "metadata": {
    "tags": []
   },
   "outputs": [
    {
     "name": "stdout",
     "output_type": "stream",
     "text": [
      "ML Regressor MSE: 925.972046875\n"
     ]
    }
   ],
   "source": [
    "# Split original data without a transformation for pipeline\n",
    "X_train_orig, X_test_orig, y_train_orig, y_test_orig = train_test_split(X, y, test_size=0.2, random_state=42)\n",
    "\n",
    "# Standard ML Regressor with preprocessing inside the pipeline\n",
    "pipeline = Pipeline(steps=[\n",
    "    ('preprocessor', preprocessor),\n",
    "    ('regressor', LinearRegression())\n",
    "])\n",
    "\n",
    "# Fit the pipeline on the original training data\n",
    "pipeline.fit(X_train_orig, y_train_orig)\n",
    "\n",
    "# Predict using the pipeline\n",
    "ml_preds = pipeline.predict(X_test_orig)\n",
    "ml_mse = mean_squared_error(y_test_orig, ml_preds)\n",
    "print(f'ML Regressor MSE: {ml_mse}')\n"
   ]
  },
  {
   "cell_type": "markdown",
   "id": "0be4f9d8-7cb5-4ce5-9610-95f53a74c6fe",
   "metadata": {},
   "source": [
    "#### Prediction for a New Customer\n",
    "\n",
    "The trained pipeline was utilised to generate a new DataFrame for a hypothetical client, and its income was forecasted. We examined which of the two models performed better in terms of forecasting client income after comparing their respective results."
   ]
  },
  {
   "cell_type": "code",
   "execution_count": 33,
   "id": "1986c61b-90e3-4a85-86be-73bcba158363",
   "metadata": {
    "tags": []
   },
   "outputs": [
    {
     "name": "stdout",
     "output_type": "stream",
     "text": [
      "New Customer DataFrame:\n",
      "   Age Education Personal Loan Securities Account CD Account Online Banking  \\\n",
      "0   30    Degree            No                 No         No            Yes   \n",
      "\n",
      "  CreditCard  Experience(Years)  Family  Credit Score  Mortgage(Thousands's)  \n",
      "0        Yes                  5       3           2.5                      0  \n",
      "Predicted Income for new customer: 67.0\n"
     ]
    }
   ],
   "source": [
    "# New Customer Prediction\n",
    "new_customer = pd.DataFrame([{\n",
    "    'Age': 30,\n",
    "    'Education': 'Degree',\n",
    "    'Personal Loan': 'No',\n",
    "    'Securities Account': 'No',\n",
    "    'CD Account': 'No',\n",
    "    'Online Banking': 'Yes',\n",
    "    'CreditCard': 'Yes',\n",
    "    'Experience(Years)': 5,\n",
    "    'Family': 3,\n",
    "    'Credit Score': 2.5,\n",
    "    \"Mortgage(Thousands's)\": 0\n",
    "}])\n",
    "\n",
    "# Display the new customer's DataFrame\n",
    "print(\"New Customer DataFrame:\")\n",
    "print(new_customer)\n",
    "\n",
    "# Predict using the pipeline\n",
    "predicted_income = pipeline.predict(new_customer)\n",
    "print(f'Predicted Income for new customer: {predicted_income[0]}')\n"
   ]
  },
  {
   "cell_type": "markdown",
   "id": "d432b72d-f75c-4b1e-9dcb-f77037704541",
   "metadata": {},
   "source": [
    "#### Hyperparameter Tuning for Neural Network\n",
    "\n",
    "For the neural network model, we adjusted its hyperparameters. We created a function that builds and trains the model using several hyperparameter combinations, such as batch sizes (10 and 20), epochs (50 and 100), and optimizers (RMSprop and Adam). After that, we trained the model and determined the mean squared error (MSE) for every combination by iterating over all possible combinations using loops. Ultimately, we determined which combination of hyperparameters produced the highest model performance, presenting the optimal values together with the corresponding mean square error."
   ]
  },
  {
   "cell_type": "code",
   "execution_count": 38,
   "id": "a455edad-7d57-4322-b89c-717adfd0f3ee",
   "metadata": {
    "tags": []
   },
   "outputs": [
    {
     "name": "stdout",
     "output_type": "stream",
     "text": [
      "\u001b[1m32/32\u001b[0m \u001b[32m━━━━━━━━━━━━━━━━━━━━\u001b[0m\u001b[37m\u001b[0m \u001b[1m0s\u001b[0m 644us/step\n",
      "\u001b[1m32/32\u001b[0m \u001b[32m━━━━━━━━━━━━━━━━━━━━\u001b[0m\u001b[37m\u001b[0m \u001b[1m0s\u001b[0m 596us/step\n",
      "\u001b[1m32/32\u001b[0m \u001b[32m━━━━━━━━━━━━━━━━━━━━\u001b[0m\u001b[37m\u001b[0m \u001b[1m0s\u001b[0m 596us/step\n",
      "\u001b[1m32/32\u001b[0m \u001b[32m━━━━━━━━━━━━━━━━━━━━\u001b[0m\u001b[37m\u001b[0m \u001b[1m0s\u001b[0m 612us/step\n",
      "\u001b[1m32/32\u001b[0m \u001b[32m━━━━━━━━━━━━━━━━━━━━\u001b[0m\u001b[37m\u001b[0m \u001b[1m0s\u001b[0m 596us/step\n",
      "\u001b[1m32/32\u001b[0m \u001b[32m━━━━━━━━━━━━━━━━━━━━\u001b[0m\u001b[37m\u001b[0m \u001b[1m0s\u001b[0m 581us/step\n",
      "\u001b[1m32/32\u001b[0m \u001b[32m━━━━━━━━━━━━━━━━━━━━\u001b[0m\u001b[37m\u001b[0m \u001b[1m0s\u001b[0m 598us/step\n",
      "\u001b[1m32/32\u001b[0m \u001b[32m━━━━━━━━━━━━━━━━━━━━\u001b[0m\u001b[37m\u001b[0m \u001b[1m0s\u001b[0m 602us/step\n",
      "Best MSE: 704.6652114763887 with parameters: {'batch_size': 20, 'epochs': 100, 'optimizer': 'RMSprop'}\n"
     ]
    }
   ],
   "source": [
    "from sklearn.model_selection import train_test_split\n",
    "from tensorflow.keras.optimizers import Adam, RMSprop\n",
    "\n",
    "def build_and_train_model(optimizer, batch_size, epochs):\n",
    "    model = tf.keras.Sequential([\n",
    "        tf.keras.layers.Input(shape=(X_train.shape[1],)),\n",
    "        tf.keras.layers.Dense(64, activation='relu'),\n",
    "        tf.keras.layers.Dense(32, activation='relu'),\n",
    "        tf.keras.layers.Dense(1, activation='linear')\n",
    "    ])\n",
    "    model.compile(optimizer=optimizer, loss='mse', metrics=['mae'])\n",
    "    history = model.fit(X_train, y_train, epochs=epochs, batch_size=batch_size, validation_split=0.2, verbose=0)\n",
    "    return model, history\n",
    "\n",
    "# Define hyperparameters\n",
    "batch_sizes = [10, 20]\n",
    "epoch_list = [50, 100]\n",
    "optimizer_classes = [Adam, RMSprop]\n",
    "\n",
    "best_mse = float('inf')\n",
    "best_params = {}\n",
    "best_model = None\n",
    "\n",
    "for batch_size in batch_sizes:\n",
    "    for epochs in epoch_list:\n",
    "        for optimizer_class in optimizer_classes:\n",
    "            optimizer = optimizer_class()\n",
    "            model, history = build_and_train_model(optimizer, batch_size, epochs)\n",
    "            nn_preds = model.predict(X_test)\n",
    "            nn_mse = mean_squared_error(y_test, nn_preds)\n",
    "            if nn_mse < best_mse:\n",
    "                best_mse = nn_mse\n",
    "                best_params = {'batch_size': batch_size, 'epochs': epochs, 'optimizer': optimizer_class.__name__}\n",
    "                best_model = model\n",
    "\n",
    "print(f\"Best MSE: {best_mse} with parameters: {best_params}\")\n"
   ]
  },
  {
   "cell_type": "markdown",
   "id": "0c24d592-3810-4b63-8da7-2b704e62ee53",
   "metadata": {},
   "source": [
    "#### Detailed Comparison\n",
    "\n",
    "Our analysis involved a comparison between the ordinary linear regression model and the optimal neural network model. We computed performance metrics, including mean squared error (MSE), mean absolute error (MAE), and coefficient of determination (R^2), and used both models to make predictions on the test data. We compared the two models side by side using these metrics to see which one was more accurate in forecasting client income."
   ]
  },
  {
   "cell_type": "code",
   "execution_count": 39,
   "id": "4cf1d94b-1731-4e40-82dc-cba53e5cf8d5",
   "metadata": {
    "tags": []
   },
   "outputs": [
    {
     "name": "stdout",
     "output_type": "stream",
     "text": [
      "\u001b[1m32/32\u001b[0m \u001b[32m━━━━━━━━━━━━━━━━━━━━\u001b[0m\u001b[37m\u001b[0m \u001b[1m0s\u001b[0m 290us/step\n",
      "Neural Network MSE: 704.6652114763887\n",
      "Neural Network MAE: 20.913848729133605\n",
      "Neural Network R^2: 0.6676924228668213\n",
      "ML Regressor MSE: 925.972046875\n",
      "ML Regressor MAE: 24.64775\n",
      "ML Regressor R^2: 0.5633280311479728\n"
     ]
    }
   ],
   "source": [
    "from sklearn.metrics import mean_absolute_error, r2_score\n",
    "\n",
    "# Neural Network Predictions with best model\n",
    "nn_preds = best_model.predict(X_test)\n",
    "nn_mse = mean_squared_error(y_test, nn_preds)\n",
    "nn_mae = mean_absolute_error(y_test, nn_preds)\n",
    "nn_r2 = r2_score(y_test, nn_preds)\n",
    "\n",
    "# Linear Regression Predictions\n",
    "ml_preds = pipeline.predict(X_test_orig)\n",
    "ml_mse = mean_squared_error(y_test_orig, ml_preds)\n",
    "ml_mae = mean_absolute_error(y_test_orig, ml_preds)\n",
    "ml_r2 = r2_score(y_test_orig, ml_preds)\n",
    "\n",
    "print(f'Neural Network MSE: {nn_mse}')\n",
    "print(f'Neural Network MAE: {nn_mae}')\n",
    "print(f'Neural Network R^2: {nn_r2}')\n",
    "\n",
    "print(f'ML Regressor MSE: {ml_mse}')\n",
    "print(f'ML Regressor MAE: {ml_mae}')\n",
    "print(f'ML Regressor R^2: {ml_r2}')\n"
   ]
  },
  {
   "cell_type": "markdown",
   "id": "5893291c-fca3-4365-8bb2-99d00c2bc3e3",
   "metadata": {},
   "source": [
    "## Discussion and Conclusions\n",
    "\n",
    "### Neural Network Performance\n",
    "\n",
    "The neural network model demonstrated good accuracy in predicting client income after it was tuned. With a R^2 value of 0.67, an Absolute Error (MAE) of 20.91, and a Mean Squared Error (MSE) of 704.67 were obtained. These findings show that a sizable amount of the data variability can be explained by the model, and that the forecasts are rather close to the actual income values.\n",
    "\n",
    "### Linear Regression Performance\n",
    "\n",
    "With an MSE of 925.97, an MAE of 24.65, and a R^2 value of 0.56, the linear regression model scored badly in contrast. Its predictions were therefore more incorrect and explained less of the variance in the income data than the neural network.\n",
    "\n",
    "### Comparison\n",
    "\n",
    "The neural network performed better overall across all metrics compared to the linear regression model. This shows that the neural network is more suited for forecasting customer income since it is more adept at identifying intricate patterns in the data.\n",
    "\n",
    "### Recommendations\n",
    "The neural network approach is advised for estimating consumer income in light of these findings. More research into more intricate neural network architectures, adjusting the hyperparameters, or expanding the dataset's features may all be necessary to further enhance the model. More robust validation of the model's performance may also be possible with the use of strategies like cross-validation.\n",
    "\n",
    "### Limitations\n",
    "\n",
    "This analysis has several restrictions. If the data grows very complicated without appropriate regulation, the neural network may overfit the data. Because of this simplicity, the linear regression model may perform worse than other models by failing to capture all the subtleties of the data. Additionally, having more data or higher-quality data may offer better results because the size and quality of the dataset can affect the model's performance.\n",
    "\n",
    "### Future Work\n",
    "\n",
    "Depending on the type of data, future research may investigate elaborate neural network architectures like convolutional or recurrent neural networks. For increased accuracy, methods like ensemble learning—which blends several models—might also be investigated. The model's accuracy and applicability may be sustained over time by routinely adding new data and retraining it.\n"
   ]
  },
  {
   "cell_type": "markdown",
   "id": "6b8b9a3f-d846-448a-b2a7-655f3cf9b877",
   "metadata": {},
   "source": [
    "# Semantic Analysis"
   ]
  },
  {
   "cell_type": "markdown",
   "id": "e915ae7b-0c6e-4388-a8a0-44ac62622539",
   "metadata": {},
   "source": [
    "#### Import Libraries\n",
    "\n",
    "All the libraries required for text cleaning (re), data manipulation (pandas), and visualisation (matplotlib.pyplot) are imported in this cell."
   ]
  },
  {
   "cell_type": "code",
   "execution_count": 14,
   "id": "4aa4ce55-15c6-4908-9810-2a681f23cf58",
   "metadata": {},
   "outputs": [],
   "source": [
    "import pandas as pd\n",
    "import re\n",
    "import matplotlib.pyplot as plt\n"
   ]
  },
  {
   "cell_type": "markdown",
   "id": "5bcf333f-6831-45c8-9b42-d7746987da3a",
   "metadata": {},
   "source": [
    "#### Load and Explore the Dataset\n",
    "\n",
    "We upload the file named \"omicron.csv,\" which includes the tweets regarding the Omicron variant. In order to get the overall number of tweets, we looked at the first few lines of the data."
   ]
  },
  {
   "cell_type": "code",
   "execution_count": 16,
   "id": "20812fa0-456a-4235-84b7-bd4b59f86e57",
   "metadata": {},
   "outputs": [
    {
     "name": "stdout",
     "output_type": "stream",
     "text": [
      "                    id             user_name   user_location  \\\n",
      "0  1465693385088323591                Abaris           Hants   \n",
      "1  1465693062999412746                GFTs         Lalaland   \n",
      "2  1465690116442279942  Herbie Finkle (Cozy)             NaN   \n",
      "3  1465689607165591552     Electrical Review  United Kingdom   \n",
      "4  1465688203709464578       BingX Academy 🔑             NaN   \n",
      "\n",
      "                                    user_description         user_created  \\\n",
      "0  Would appear on Blogger (did originally),  but...  2009-09-16 14:30:32   \n",
      "1  There's a field somewhere beyond all doubt and...  2019-12-28 14:29:13   \n",
      "2                           help me find me frens ❤️  2021-07-10 09:40:57   \n",
      "3  Electrical Review is a monthly journal aimed a...  2009-05-21 08:32:19   \n",
      "4  BingX (Prev. Bingbon) is the world's top crypt...  2013-12-31 02:57:32   \n",
      "\n",
      "   user_followers  user_friends  user_favourites  user_verified  \\\n",
      "0            2880          4369            26907          False   \n",
      "1             165           583            21152          False   \n",
      "2             114           393             2339          False   \n",
      "3           20759          2321              739          False   \n",
      "4           17134             8               31          False   \n",
      "\n",
      "                  date                                               text  \\\n",
      "0  2021-11-30 14:45:08  @SkyNews \"Told you I'd be Back!\" #OMICRON “Odi...   \n",
      "1  2021-11-30 14:43:52  Someone told me this in October #Omicron https...   \n",
      "2  2021-11-30 14:32:09  Glad to see the public schoolkids are wrapping...   \n",
      "3  2021-11-30 14:30:08  #Automation systems have become increasingly c...   \n",
      "4  2021-11-30 14:24:33  🟢 If u think Omicron is a FUD, you LONG📈\\n🔴 If...   \n",
      "\n",
      "         hashtags               source  retweets  favorites  is_retweet  \n",
      "0     ['OMICRON']      Twitter Web App         0          0       False  \n",
      "1     ['Omicron']  Twitter for Android         0          0       False  \n",
      "2       ['COVID']      Twitter Web App         0          1       False  \n",
      "3  ['Automation']       Hootsuite Inc.         0          0       False  \n",
      "4             NaN      Twitter Web App         2          2       False  \n",
      "Number of tweets collected: 48168\n",
      "Index(['id', 'user_name', 'user_location', 'user_description', 'user_created',\n",
      "       'user_followers', 'user_friends', 'user_favourites', 'user_verified',\n",
      "       'date', 'text', 'hashtags', 'source', 'retweets', 'favorites',\n",
      "       'is_retweet'],\n",
      "      dtype='object')\n"
     ]
    }
   ],
   "source": [
    "# Load the dataset\n",
    "file_path = 'omicron.csv'\n",
    "df_omicron = pd.read_csv(file_path)\n",
    "\n",
    "# Display the first few rows\n",
    "print(df_omicron.head())\n",
    "print(f\"Number of tweets collected: {len(df_omicron)}\")\n",
    "\n",
    "# Check the columns in the dataset\n",
    "print(df_omicron.columns)\n"
   ]
  },
  {
   "cell_type": "markdown",
   "id": "d3d441e3-e799-49f1-a2b4-a4584f803b20",
   "metadata": {},
   "source": [
    "#### Clean the Tweets\n",
    "\n",
    "The function to clean up the tweets—removing links, mentions, hashtags, line breaks, and special characters—is defined in this cell. The 'Cleaned_Tweet' column is created once we apply this function to the tweets' text column and add the cleaned results."
   ]
  },
  {
   "cell_type": "code",
   "execution_count": 18,
   "id": "72dcae31-b486-40ac-a5e6-e41e185d2a2e",
   "metadata": {},
   "outputs": [
    {
     "name": "stdout",
     "output_type": "stream",
     "text": [
      "                    id             user_name   user_location  \\\n",
      "0  1465693385088323591                Abaris           Hants   \n",
      "1  1465693062999412746                GFTs         Lalaland   \n",
      "2  1465690116442279942  Herbie Finkle (Cozy)             NaN   \n",
      "3  1465689607165591552     Electrical Review  United Kingdom   \n",
      "4  1465688203709464578       BingX Academy 🔑             NaN   \n",
      "\n",
      "                                    user_description         user_created  \\\n",
      "0  Would appear on Blogger (did originally),  but...  2009-09-16 14:30:32   \n",
      "1  There's a field somewhere beyond all doubt and...  2019-12-28 14:29:13   \n",
      "2                           help me find me frens ❤️  2021-07-10 09:40:57   \n",
      "3  Electrical Review is a monthly journal aimed a...  2009-05-21 08:32:19   \n",
      "4  BingX (Prev. Bingbon) is the world's top crypt...  2013-12-31 02:57:32   \n",
      "\n",
      "   user_followers  user_friends  user_favourites  user_verified  \\\n",
      "0            2880          4369            26907          False   \n",
      "1             165           583            21152          False   \n",
      "2             114           393             2339          False   \n",
      "3           20759          2321              739          False   \n",
      "4           17134             8               31          False   \n",
      "\n",
      "                  date                                               text  \\\n",
      "0  2021-11-30 14:45:08  @SkyNews \"Told you I'd be Back!\" #OMICRON “Odi...   \n",
      "1  2021-11-30 14:43:52  Someone told me this in October #Omicron https...   \n",
      "2  2021-11-30 14:32:09  Glad to see the public schoolkids are wrapping...   \n",
      "3  2021-11-30 14:30:08  #Automation systems have become increasingly c...   \n",
      "4  2021-11-30 14:24:33  🟢 If u think Omicron is a FUD, you LONG📈\\n🔴 If...   \n",
      "\n",
      "         hashtags               source  retweets  favorites  is_retweet  \\\n",
      "0     ['OMICRON']      Twitter Web App         0          0       False   \n",
      "1     ['Omicron']  Twitter for Android         0          0       False   \n",
      "2       ['COVID']      Twitter Web App         0          1       False   \n",
      "3  ['Automation']       Hootsuite Inc.         0          0       False   \n",
      "4             NaN      Twitter Web App         2          2       False   \n",
      "\n",
      "                                       Cleaned_Tweet  \n",
      "0   told you id be back  odium medicum you insens...  \n",
      "1                  someone told me this in october    \n",
      "2  glad to see the public schoolkids are wrapping...  \n",
      "3   systems have become increasingly complex and ...  \n",
      "4   if u think omicron is a fud you long if u thi...  \n"
     ]
    }
   ],
   "source": [
    "# Function to clean tweets\n",
    "def clean_tweet(tweet):\n",
    "    tweet = re.sub(r'http\\S+', '', tweet)  # Remove links\n",
    "    tweet = re.sub(r'@\\w+', '', tweet)     # Remove mentions\n",
    "    tweet = re.sub(r'#\\w+', '', tweet)     # Remove hashtags\n",
    "    tweet = re.sub(r'\\n', '', tweet)       # Remove newlines\n",
    "    tweet = re.sub(r'[^A-Za-z0-9\\s]', '', tweet)  # Remove special characters\n",
    "    tweet = tweet.lower()  # Convert to lowercase\n",
    "    return tweet\n",
    "\n",
    "# Clean the tweets\n",
    "df_omicron['Cleaned_Tweet'] = df_omicron['text'].apply(clean_tweet)\n",
    "\n",
    "# Verify the cleaned data\n",
    "print(df_omicron.head())\n"
   ]
  },
  {
   "cell_type": "markdown",
   "id": "5f3548c1-3c8b-4658-9ea5-bf22fac35b6b",
   "metadata": {},
   "source": [
    "#### Initialize Sentiment Analyzer\n",
    "\n",
    "The sentiment analysis tool VADER was initialised, and a function was created to determine the sentiments of the cleaned tweets. The results are stored in the 'Sentiment' column when we apply this function to the cleaned tweets. We verify the outcomes to make sure dictionaries are included in the \"Sentiment\" column."
   ]
  },
  {
   "cell_type": "code",
   "execution_count": 30,
   "id": "e8bb5af2-5f51-4885-a6ce-ed2a8713685e",
   "metadata": {},
   "outputs": [
    {
     "name": "stdout",
     "output_type": "stream",
     "text": [
      "0    {'neg': 0.1, 'neu': 0.9, 'pos': 0.0, 'compound...\n",
      "1    {'neg': 0.0, 'neu': 1.0, 'pos': 0.0, 'compound...\n",
      "2    {'neg': 0.241, 'neu': 0.625, 'pos': 0.134, 'co...\n",
      "3    {'neg': 0.0, 'neu': 1.0, 'pos': 0.0, 'compound...\n",
      "4    {'neg': 0.193, 'neu': 0.737, 'pos': 0.07, 'com...\n",
      "Name: Sentiment, dtype: object\n",
      "[<class 'dict'>]\n"
     ]
    }
   ],
   "source": [
    "from vaderSentiment.vaderSentiment import SentimentIntensityAnalyzer\n",
    "\n",
    "# Initialize the sentiment analyzer\n",
    "analyzer = SentimentIntensityAnalyzer()\n",
    "\n",
    "# Function to get sentiment\n",
    "def get_sentiment(tweet):\n",
    "    sentiment = analyzer.polarity_scores(tweet)\n",
    "    return sentiment\n",
    "\n",
    "# Apply sentiment analysis\n",
    "df_omicron['Sentiment'] = df_omicron['Cleaned_Tweet'].apply(get_sentiment)\n",
    "\n",
    "# Verify sentiment distribution\n",
    "print(df_omicron['Sentiment'].head())\n",
    "print(df_omicron['Sentiment'].apply(lambda x: type(x)).unique())\n"
   ]
  },
  {
   "cell_type": "markdown",
   "id": "4a590c20-2c29-4bc5-8a42-e44b3ade2325",
   "metadata": {},
   "source": [
    "#### Extract Sentiment Labels and Visualize Sentiment Distribution\n",
    "\n",
    "Positive, neutral, and negative sentiment labels were retrieved using the VADER 'compound' score as a guide. Using pie and bar charts, we were able to visualise the sentiment distribution by counting the number of tweets in each sentiment category."
   ]
  },
  {
   "cell_type": "code",
   "execution_count": 41,
   "id": "35a6e87d-536d-48cf-9aea-70b10aad01ad",
   "metadata": {},
   "outputs": [
    {
     "data": {
      "image/png": "[encoded data removed]",
      "text/plain": [
       "<Figure size 800x600 with 1 Axes>"
      ]
     },
     "metadata": {},
     "output_type": "display_data"
    },
    {
     "data": {
      "image/png": "[encoded data removed]",
      "text/plain": [
       "<Figure size 800x600 with 1 Axes>"
      ]
     },
     "metadata": {},
     "output_type": "display_data"
    }
   ],
   "source": [
    "# Extract sentiment labels from the sentiment analysis\n",
    "def get_sentiment_label(sentiment):\n",
    "    if sentiment['compound'] >= 0.05:\n",
    "        return 'positive'\n",
    "    elif sentiment['compound'] <= -0.05:\n",
    "        return 'negative'\n",
    "    else:\n",
    "        return 'neutral'\n",
    "\n",
    "df_omicron['Sentiment_Label'] = df_omicron['Sentiment'].apply(get_sentiment_label)\n",
    "\n",
    "# Count sentiment labels\n",
    "sentiment_label_counts = df_omicron['Sentiment_Label'].value_counts()\n",
    "\n",
    "# Plot a bar chart\n",
    "plt.figure(figsize=(8, 6))\n",
    "sentiment_label_counts.plot(kind='bar', color=['green', 'blue', 'red'])\n",
    "plt.title('Sentiment Analysis of Omicron Tweets')\n",
    "plt.xlabel('Sentiment')\n",
    "plt.ylabel('Number of Tweets')\n",
    "plt.show()\n",
    "\n",
    "# Plot a pie chart\n",
    "plt.figure(figsize=(8, 6))\n",
    "sentiment_label_counts.plot(kind='pie', autopct='%1.1f%%', colors=['green', 'blue', 'red'])\n",
    "plt.title('Sentiment Analysis of Omicron Tweets')\n",
    "plt.ylabel('')\n",
    "plt.show()\n"
   ]
  },
  {
   "cell_type": "markdown",
   "id": "d89b0569-df35-4107-ae0c-787915e94e15",
   "metadata": {},
   "source": [
    "#### Discussion and Conclusion\n",
    "\n",
    "We can see that there is a wide range of feelings in the tweets concerning the Omicron variant after conducting the sentiment analysis. The VADER SentimentIntensityAnalyzer was used in the analysis; it works well for brief, informal texts like tweets. Neutral tweets were categorised as the majority of tweets, which is typical in factual and educational talks. Even so, a considerable quantity of affirmative and negative tweets were also present, expressing people' viewpoints and affective responses.\n",
    "\n",
    "We are able to discern trends and patterns in the public's impression of the Omicron variant by clearly understanding the sentiment distribution provided by the data visualisation provided by bar and pie charts.\n",
    "\n",
    "Limitations and Future Improvements\n",
    "\n",
    "VADER sentiment analysis is useful, but it has limits, particularly when handling context, sarcasm, and irony. Supervised machine learning techniques that have been explicitly trained for the relevant data set could be applied for a more thorough analysis."
   ]
  },
  {
   "cell_type": "markdown",
   "id": "f185eea6",
   "metadata": {},
   "source": [
    "### References\n",
    "\n",
    "Pandas Documentation. User Guide. Available at: https://pandas.pydata.org/docs/user_guide/index.html#user-guide [Accessed May 2024].\n",
    "\n",
    "Scikit-learn Documentation. User Guide. Available at: https://scikit-learn.org/stable/user_guide.html [Accessed May 2024].\n",
    "\n",
    "TensorFlow Documentation. Keras Guide. Available at: https://www.tensorflow.org/guide/keras [Accessed May 2024].\n",
    "\n",
    "Lavanya Geetha (Feb 28, 2023). VADER: A Comprehensive Guide to Sentiment Analysis in Python. Medium. Available at: https://medium.com/@rslavanyageetha/vader-a-comprehensive-guide-to-sentiment-analysis-in-python-c4f1868b0d2e#:~:text=Sentiment%20Analysis%20using%20Vader%20in%20Python&text=Sentiment%20analysis%20is%20a%20popular,trained%20model%20for%20sentiment%20analysis. [Accessed May 2024].\n",
    "\n",
    "Matplotlib Documentation. Quick Start Guide. Available at: https://matplotlib.org/stable/users/explain/quick_start.html [Accessed May 2024].\n",
    "\n",
    "DataCamp. What is Machine Learning? Available at: https://www.datacamp.com/blog/what-is-machine-learning [Accessed May 2024].\n",
    "\n",
    "GeeksforGeeks. Linear Regression in Machine Learning .Available at: https://www.geeksforgeeks.org/ml-linear-regression/ [Accessed May 2024].\n",
    "\n",
    "Amazon Web Services. What is a Neural Network?  Available at: https://aws.amazon.com/what-is/neural-network/#:~:text=A%20neural%20network%20is%20a,inspired%20by%20the%20human%20brain. [Accessed May 2024].\n",
    "\n",
    "Abhinaba Banerjee (Dec 15, 2022). Scaling vs. Normalization: Are They the Same? Medium. Available at: https://medium.com/geekculture/scaling-vs-normalization-are-they-the-same-348035afe5ca [Accessed May 2024]\n",
    "\n",
    "GeeksforGeeks (Dec 07,2023). Hyperparameter Tuning. Available at: https://www.geeksforgeeks.org/hyperparameter-tuning/ [Accessed May 2024].\n",
    "\n",
    "Studytonight (Mar 29,2023). What is Mean Squared Error, Mean Absolute Error, Root Mean Squared Error, and R Squared? Available at: https://www.studytonight.com/post/what-is-mean-squared-error-mean-absolute-error-root-mean-squared-error-and-r-squared [Accessed May 2024].\n",
    "\n",
    "Yashmeet Singh (Oct 14,2022). 3 Regression Metrics You Must Know: MAE, MSE, and RMSE. Proclus Academy Available at: https://proclusacademy.com/blog/explainer/regression-metrics-you-must-know/ [Accessed May 2024].\n",
    "\n",
    "DataCamp (May 2021). Python Sentiment Analysis Tutorial.  Available at: https://www.datacamp.com/tutorial/simplifying-sentiment-analysis-python [Accessed May 2024].\n",
    "\n",
    "Baeldung. Algorithms for Determining Text Sentiment.  Available at: https://www.baeldung.com/cs/sentiment-analysis-practical [Accessed May 2024]\n",
    "\n",
    "GeeksforGeeks (Oct 07, 2021). Python Sentiment Analysis using VADER. Available at: https://www.geeksforgeeks.org/python-sentiment-analysis-using-vader/ [Accessed May 2024]. \n",
    "\n",
    "Hypefactors (Sep 05,2019). Limitations of Sentiment Analysis for Reputation Management. Available at: https://hypefactors.com/blog/limitations-of-sentiment-analysis-for-reputation-management/ [Accessed May 2024].\n",
    "\n",
    "Ludovico Cuoghi. How are People Reacting to Omicron on Twitter? Kaggle. Available at: https://www.kaggle.com/code/ludovicocuoghi/how-are-people-reacting-to-omicron-on-twitter/input [Accessed May 2024].\n"
   ]
  }
 ],
 "metadata": {
  "kernelspec": {
   "display_name": "Python (Bernardo)",
   "language": "python",
   "name": "bernardo_env"
  },
  "language_info": {
   "codemirror_mode": {
    "name": "ipython",
    "version": 3
   },
   "file_extension": ".py",
   "mimetype": "text/x-python",
   "name": "python",
   "nbconvert_exporter": "python",
   "pygments_lexer": "ipython3",
   "version": "3.11.4"
  }
 },
 "nbformat": 4,
 "nbformat_minor": 5
}
