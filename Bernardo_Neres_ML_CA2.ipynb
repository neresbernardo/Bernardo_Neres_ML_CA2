{
 "cells": [
  {
   "cell_type": "markdown",
   "id": "0df8fa29",
   "metadata": {},
   "source": [
    "## ML_CA2\n",
    "\n",
    "Name: Bernardo Neres Silva   \n",
    "Student Number: 2023484     \n",
    "Lecturer: David McQuaid     \n",
    "Submission Deadline Date: 31st May 2024    \n",
    "Github Link : https://github.com/neresbernardo/Bernardo_Neres_ML_CA2   \n",
    " \n"
   ]
  },
  {
   "cell_type": "markdown",
   "id": "7c64fd54",
   "metadata": {},
   "source": [
    "### Neural Networks"
   ]
  },
  {
   "cell_type": "code",
   "execution_count": null,
   "id": "e0c3bcc3",
   "metadata": {},
   "outputs": [],
   "source": []
  },
  {
   "cell_type": "markdown",
   "id": "39c2e072",
   "metadata": {},
   "source": [
    "### References"
   ]
  }
 ],
 "metadata": {
  "kernelspec": {
   "display_name": "Python 3 (ipykernel)",
   "language": "python",
   "name": "python3"
  },
  "language_info": {
   "codemirror_mode": {
    "name": "ipython",
    "version": 3
   },
   "file_extension": ".py",
   "mimetype": "text/x-python",
   "name": "python",
   "nbconvert_exporter": "python",
   "pygments_lexer": "ipython3",
   "version": "3.11.4"
  }
 },
 "nbformat": 4,
 "nbformat_minor": 5
}
